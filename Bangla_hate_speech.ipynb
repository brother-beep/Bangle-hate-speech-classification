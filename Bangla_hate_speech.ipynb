{
  "nbformat": 4,
  "nbformat_minor": 0,
  "metadata": {
    "colab": {
      "provenance": []
    },
    "kernelspec": {
      "name": "python3",
      "display_name": "Python 3"
    },
    "language_info": {
      "name": "python"
    }
  },
  "cells": [
    {
      "cell_type": "code",
      "execution_count": 117,
      "metadata": {
        "id": "8OWsJmDw0nXK"
      },
      "outputs": [],
      "source": [
        "#import required libraries\n",
        "\n",
        "import pandas as pd\n",
        "import matplotlib.pyplot as plt\n",
        "import seaborn as sns\n",
        "\n",
        "import warnings\n",
        "warnings.filterwarnings('ignore')"
      ]
    },
    {
      "cell_type": "markdown",
      "source": [
        "# **Load the dataset**"
      ],
      "metadata": {
        "id": "pX5kplDjOTRs"
      }
    },
    {
      "cell_type": "code",
      "source": [
        "df = pd.read_csv('/content/bengali_ hate_v1.0.csv',sep='\\t')"
      ],
      "metadata": {
        "id": "AEP7LmMM1At7"
      },
      "execution_count": 172,
      "outputs": []
    },
    {
      "cell_type": "markdown",
      "source": [
        "# **View first five rows**"
      ],
      "metadata": {
        "id": "hEWeQ5SVOdXN"
      }
    },
    {
      "cell_type": "code",
      "source": [
        "df.head()"
      ],
      "metadata": {
        "colab": {
          "base_uri": "https://localhost:8080/",
          "height": 206
        },
        "id": "ImNr1VrKOY-j",
        "outputId": "3b75a632-d3d4-485a-a0ef-8250058a3c25"
      },
      "execution_count": 173,
      "outputs": [
        {
          "output_type": "execute_result",
          "data": {
            "text/plain": [
              "                                                text         label\n",
              "0  ইনিই হচ্ছেন ভারতের প্রতিরক্ষামন্ত্রী মনোহর পা...  Geopolitical\n",
              "1    রেন্ডিয়াকে পৃথীবির মানচিএ থেকে মুচে ফেলতে হবে    Geopolitical\n",
              "2  এই মালাউনরা বাংগালিদের সাফল্য দেখে হিংসা করে ব...     Religious\n",
              "3                         আমরা বলতে কারা ভারত তাইতো   Geopolitical\n",
              "4                                পাকিস্তান আমার বাল   Geopolitical"
            ],
            "text/html": [
              "\n",
              "  <div id=\"df-d7dc873a-fd3b-4514-9ee3-3f766eb90610\" class=\"colab-df-container\">\n",
              "    <div>\n",
              "<style scoped>\n",
              "    .dataframe tbody tr th:only-of-type {\n",
              "        vertical-align: middle;\n",
              "    }\n",
              "\n",
              "    .dataframe tbody tr th {\n",
              "        vertical-align: top;\n",
              "    }\n",
              "\n",
              "    .dataframe thead th {\n",
              "        text-align: right;\n",
              "    }\n",
              "</style>\n",
              "<table border=\"1\" class=\"dataframe\">\n",
              "  <thead>\n",
              "    <tr style=\"text-align: right;\">\n",
              "      <th></th>\n",
              "      <th>text</th>\n",
              "      <th>label</th>\n",
              "    </tr>\n",
              "  </thead>\n",
              "  <tbody>\n",
              "    <tr>\n",
              "      <th>0</th>\n",
              "      <td>ইনিই হচ্ছেন ভারতের প্রতিরক্ষামন্ত্রী মনোহর পা...</td>\n",
              "      <td>Geopolitical</td>\n",
              "    </tr>\n",
              "    <tr>\n",
              "      <th>1</th>\n",
              "      <td>রেন্ডিয়াকে পৃথীবির মানচিএ থেকে মুচে ফেলতে হবে</td>\n",
              "      <td>Geopolitical</td>\n",
              "    </tr>\n",
              "    <tr>\n",
              "      <th>2</th>\n",
              "      <td>এই মালাউনরা বাংগালিদের সাফল্য দেখে হিংসা করে ব...</td>\n",
              "      <td>Religious</td>\n",
              "    </tr>\n",
              "    <tr>\n",
              "      <th>3</th>\n",
              "      <td>আমরা বলতে কারা ভারত তাইতো</td>\n",
              "      <td>Geopolitical</td>\n",
              "    </tr>\n",
              "    <tr>\n",
              "      <th>4</th>\n",
              "      <td>পাকিস্তান আমার বাল</td>\n",
              "      <td>Geopolitical</td>\n",
              "    </tr>\n",
              "  </tbody>\n",
              "</table>\n",
              "</div>\n",
              "    <div class=\"colab-df-buttons\">\n",
              "\n",
              "  <div class=\"colab-df-container\">\n",
              "    <button class=\"colab-df-convert\" onclick=\"convertToInteractive('df-d7dc873a-fd3b-4514-9ee3-3f766eb90610')\"\n",
              "            title=\"Convert this dataframe to an interactive table.\"\n",
              "            style=\"display:none;\">\n",
              "\n",
              "  <svg xmlns=\"http://www.w3.org/2000/svg\" height=\"24px\" viewBox=\"0 -960 960 960\">\n",
              "    <path d=\"M120-120v-720h720v720H120Zm60-500h600v-160H180v160Zm220 220h160v-160H400v160Zm0 220h160v-160H400v160ZM180-400h160v-160H180v160Zm440 0h160v-160H620v160ZM180-180h160v-160H180v160Zm440 0h160v-160H620v160Z\"/>\n",
              "  </svg>\n",
              "    </button>\n",
              "\n",
              "  <style>\n",
              "    .colab-df-container {\n",
              "      display:flex;\n",
              "      gap: 12px;\n",
              "    }\n",
              "\n",
              "    .colab-df-convert {\n",
              "      background-color: #E8F0FE;\n",
              "      border: none;\n",
              "      border-radius: 50%;\n",
              "      cursor: pointer;\n",
              "      display: none;\n",
              "      fill: #1967D2;\n",
              "      height: 32px;\n",
              "      padding: 0 0 0 0;\n",
              "      width: 32px;\n",
              "    }\n",
              "\n",
              "    .colab-df-convert:hover {\n",
              "      background-color: #E2EBFA;\n",
              "      box-shadow: 0px 1px 2px rgba(60, 64, 67, 0.3), 0px 1px 3px 1px rgba(60, 64, 67, 0.15);\n",
              "      fill: #174EA6;\n",
              "    }\n",
              "\n",
              "    .colab-df-buttons div {\n",
              "      margin-bottom: 4px;\n",
              "    }\n",
              "\n",
              "    [theme=dark] .colab-df-convert {\n",
              "      background-color: #3B4455;\n",
              "      fill: #D2E3FC;\n",
              "    }\n",
              "\n",
              "    [theme=dark] .colab-df-convert:hover {\n",
              "      background-color: #434B5C;\n",
              "      box-shadow: 0px 1px 3px 1px rgba(0, 0, 0, 0.15);\n",
              "      filter: drop-shadow(0px 1px 2px rgba(0, 0, 0, 0.3));\n",
              "      fill: #FFFFFF;\n",
              "    }\n",
              "  </style>\n",
              "\n",
              "    <script>\n",
              "      const buttonEl =\n",
              "        document.querySelector('#df-d7dc873a-fd3b-4514-9ee3-3f766eb90610 button.colab-df-convert');\n",
              "      buttonEl.style.display =\n",
              "        google.colab.kernel.accessAllowed ? 'block' : 'none';\n",
              "\n",
              "      async function convertToInteractive(key) {\n",
              "        const element = document.querySelector('#df-d7dc873a-fd3b-4514-9ee3-3f766eb90610');\n",
              "        const dataTable =\n",
              "          await google.colab.kernel.invokeFunction('convertToInteractive',\n",
              "                                                    [key], {});\n",
              "        if (!dataTable) return;\n",
              "\n",
              "        const docLinkHtml = 'Like what you see? Visit the ' +\n",
              "          '<a target=\"_blank\" href=https://colab.research.google.com/notebooks/data_table.ipynb>data table notebook</a>'\n",
              "          + ' to learn more about interactive tables.';\n",
              "        element.innerHTML = '';\n",
              "        dataTable['output_type'] = 'display_data';\n",
              "        await google.colab.output.renderOutput(dataTable, element);\n",
              "        const docLink = document.createElement('div');\n",
              "        docLink.innerHTML = docLinkHtml;\n",
              "        element.appendChild(docLink);\n",
              "      }\n",
              "    </script>\n",
              "  </div>\n",
              "\n",
              "\n",
              "<div id=\"df-b965e3ee-4ff5-4cf1-8fec-67a33879fc55\">\n",
              "  <button class=\"colab-df-quickchart\" onclick=\"quickchart('df-b965e3ee-4ff5-4cf1-8fec-67a33879fc55')\"\n",
              "            title=\"Suggest charts\"\n",
              "            style=\"display:none;\">\n",
              "\n",
              "<svg xmlns=\"http://www.w3.org/2000/svg\" height=\"24px\"viewBox=\"0 0 24 24\"\n",
              "     width=\"24px\">\n",
              "    <g>\n",
              "        <path d=\"M19 3H5c-1.1 0-2 .9-2 2v14c0 1.1.9 2 2 2h14c1.1 0 2-.9 2-2V5c0-1.1-.9-2-2-2zM9 17H7v-7h2v7zm4 0h-2V7h2v10zm4 0h-2v-4h2v4z\"/>\n",
              "    </g>\n",
              "</svg>\n",
              "  </button>\n",
              "\n",
              "<style>\n",
              "  .colab-df-quickchart {\n",
              "      --bg-color: #E8F0FE;\n",
              "      --fill-color: #1967D2;\n",
              "      --hover-bg-color: #E2EBFA;\n",
              "      --hover-fill-color: #174EA6;\n",
              "      --disabled-fill-color: #AAA;\n",
              "      --disabled-bg-color: #DDD;\n",
              "  }\n",
              "\n",
              "  [theme=dark] .colab-df-quickchart {\n",
              "      --bg-color: #3B4455;\n",
              "      --fill-color: #D2E3FC;\n",
              "      --hover-bg-color: #434B5C;\n",
              "      --hover-fill-color: #FFFFFF;\n",
              "      --disabled-bg-color: #3B4455;\n",
              "      --disabled-fill-color: #666;\n",
              "  }\n",
              "\n",
              "  .colab-df-quickchart {\n",
              "    background-color: var(--bg-color);\n",
              "    border: none;\n",
              "    border-radius: 50%;\n",
              "    cursor: pointer;\n",
              "    display: none;\n",
              "    fill: var(--fill-color);\n",
              "    height: 32px;\n",
              "    padding: 0;\n",
              "    width: 32px;\n",
              "  }\n",
              "\n",
              "  .colab-df-quickchart:hover {\n",
              "    background-color: var(--hover-bg-color);\n",
              "    box-shadow: 0 1px 2px rgba(60, 64, 67, 0.3), 0 1px 3px 1px rgba(60, 64, 67, 0.15);\n",
              "    fill: var(--button-hover-fill-color);\n",
              "  }\n",
              "\n",
              "  .colab-df-quickchart-complete:disabled,\n",
              "  .colab-df-quickchart-complete:disabled:hover {\n",
              "    background-color: var(--disabled-bg-color);\n",
              "    fill: var(--disabled-fill-color);\n",
              "    box-shadow: none;\n",
              "  }\n",
              "\n",
              "  .colab-df-spinner {\n",
              "    border: 2px solid var(--fill-color);\n",
              "    border-color: transparent;\n",
              "    border-bottom-color: var(--fill-color);\n",
              "    animation:\n",
              "      spin 1s steps(1) infinite;\n",
              "  }\n",
              "\n",
              "  @keyframes spin {\n",
              "    0% {\n",
              "      border-color: transparent;\n",
              "      border-bottom-color: var(--fill-color);\n",
              "      border-left-color: var(--fill-color);\n",
              "    }\n",
              "    20% {\n",
              "      border-color: transparent;\n",
              "      border-left-color: var(--fill-color);\n",
              "      border-top-color: var(--fill-color);\n",
              "    }\n",
              "    30% {\n",
              "      border-color: transparent;\n",
              "      border-left-color: var(--fill-color);\n",
              "      border-top-color: var(--fill-color);\n",
              "      border-right-color: var(--fill-color);\n",
              "    }\n",
              "    40% {\n",
              "      border-color: transparent;\n",
              "      border-right-color: var(--fill-color);\n",
              "      border-top-color: var(--fill-color);\n",
              "    }\n",
              "    60% {\n",
              "      border-color: transparent;\n",
              "      border-right-color: var(--fill-color);\n",
              "    }\n",
              "    80% {\n",
              "      border-color: transparent;\n",
              "      border-right-color: var(--fill-color);\n",
              "      border-bottom-color: var(--fill-color);\n",
              "    }\n",
              "    90% {\n",
              "      border-color: transparent;\n",
              "      border-bottom-color: var(--fill-color);\n",
              "    }\n",
              "  }\n",
              "</style>\n",
              "\n",
              "  <script>\n",
              "    async function quickchart(key) {\n",
              "      const quickchartButtonEl =\n",
              "        document.querySelector('#' + key + ' button');\n",
              "      quickchartButtonEl.disabled = true;  // To prevent multiple clicks.\n",
              "      quickchartButtonEl.classList.add('colab-df-spinner');\n",
              "      try {\n",
              "        const charts = await google.colab.kernel.invokeFunction(\n",
              "            'suggestCharts', [key], {});\n",
              "      } catch (error) {\n",
              "        console.error('Error during call to suggestCharts:', error);\n",
              "      }\n",
              "      quickchartButtonEl.classList.remove('colab-df-spinner');\n",
              "      quickchartButtonEl.classList.add('colab-df-quickchart-complete');\n",
              "    }\n",
              "    (() => {\n",
              "      let quickchartButtonEl =\n",
              "        document.querySelector('#df-b965e3ee-4ff5-4cf1-8fec-67a33879fc55 button');\n",
              "      quickchartButtonEl.style.display =\n",
              "        google.colab.kernel.accessAllowed ? 'block' : 'none';\n",
              "    })();\n",
              "  </script>\n",
              "</div>\n",
              "    </div>\n",
              "  </div>\n"
            ]
          },
          "metadata": {},
          "execution_count": 173
        }
      ]
    },
    {
      "cell_type": "markdown",
      "source": [
        "# ***Number of available categories ***"
      ],
      "metadata": {
        "id": "duof5aaXOln6"
      }
    },
    {
      "cell_type": "code",
      "source": [
        "df['label'].value_counts()"
      ],
      "metadata": {
        "colab": {
          "base_uri": "https://localhost:8080/"
        },
        "id": "Vt3yH2Z_1HbK",
        "outputId": "eed03127-b06a-4ebb-8232-a178186d4a22"
      },
      "execution_count": 119,
      "outputs": [
        {
          "output_type": "execute_result",
          "data": {
            "text/plain": [
              "Geopolitical      1379\n",
              "Personal           629\n",
              "Political          592\n",
              "Religious          502\n",
              "Gender abusive     316\n",
              "Name: label, dtype: int64"
            ]
          },
          "metadata": {},
          "execution_count": 119
        }
      ]
    },
    {
      "cell_type": "code",
      "source": [
        "#visualize\n",
        "\n",
        "plt.bar(df['label'].value_counts().index,df['label'].value_counts().values,color=['r','g','b','yellow','purple'])\n",
        "plt.ylabel('Number of abusements')\n",
        "plt.title('Imbalanced Categorical Distribution')\n",
        "plt.show()"
      ],
      "metadata": {
        "colab": {
          "base_uri": "https://localhost:8080/",
          "height": 452
        },
        "id": "CUNpvRTK1ITx",
        "outputId": "03927f0e-ee21-4095-c462-56407231068f"
      },
      "execution_count": 174,
      "outputs": [
        {
          "output_type": "display_data",
          "data": {
            "text/plain": [
              "<Figure size 640x480 with 1 Axes>"
            ],
            "image/png": "[encoded data removed]"
          },
          "metadata": {}
        }
      ]
    },
    {
      "cell_type": "markdown",
      "source": [
        "# **Convert categorical label into numeric**"
      ],
      "metadata": {
        "id": "okErzUYrPKtr"
      }
    },
    {
      "cell_type": "code",
      "source": [
        "#use label encoding\n",
        "\n",
        "from sklearn.preprocessing import LabelEncoder\n",
        "lbl = LabelEncoder()\n",
        "df['label'] = lbl.fit_transform(df['label'])"
      ],
      "metadata": {
        "id": "uOLxzcyH260x"
      },
      "execution_count": 179,
      "outputs": []
    },
    {
      "cell_type": "code",
      "source": [
        "#show first five rows\n",
        "\n",
        "df.head()"
      ],
      "metadata": {
        "colab": {
          "base_uri": "https://localhost:8080/",
          "height": 206
        },
        "id": "PJH4Icbl29gQ",
        "outputId": "29124b6c-a3ca-4898-e0cd-ebff4b7f88c6"
      },
      "execution_count": 180,
      "outputs": [
        {
          "output_type": "execute_result",
          "data": {
            "text/plain": [
              "                                                text  label\n",
              "0  ইনিই হচ্ছেন ভারতের প্রতিরক্ষামন্ত্রী মনোহর পা...      1\n",
              "1    রেন্ডিয়াকে পৃথীবির মানচিএ থেকে মুচে ফেলতে হবে        1\n",
              "2  এই মালাউনরা বাংগালিদের সাফল্য দেখে হিংসা করে ব...      4\n",
              "3                         আমরা বলতে কারা ভারত তাইতো       1\n",
              "4                                পাকিস্তান আমার বাল       1"
            ],
            "text/html": [
              "\n",
              "  <div id=\"df-7dfcb11c-b9de-4a5f-b1e0-723f9bed1c85\" class=\"colab-df-container\">\n",
              "    <div>\n",
              "<style scoped>\n",
              "    .dataframe tbody tr th:only-of-type {\n",
              "        vertical-align: middle;\n",
              "    }\n",
              "\n",
              "    .dataframe tbody tr th {\n",
              "        vertical-align: top;\n",
              "    }\n",
              "\n",
              "    .dataframe thead th {\n",
              "        text-align: right;\n",
              "    }\n",
              "</style>\n",
              "<table border=\"1\" class=\"dataframe\">\n",
              "  <thead>\n",
              "    <tr style=\"text-align: right;\">\n",
              "      <th></th>\n",
              "      <th>text</th>\n",
              "      <th>label</th>\n",
              "    </tr>\n",
              "  </thead>\n",
              "  <tbody>\n",
              "    <tr>\n",
              "      <th>0</th>\n",
              "      <td>ইনিই হচ্ছেন ভারতের প্রতিরক্ষামন্ত্রী মনোহর পা...</td>\n",
              "      <td>1</td>\n",
              "    </tr>\n",
              "    <tr>\n",
              "      <th>1</th>\n",
              "      <td>রেন্ডিয়াকে পৃথীবির মানচিএ থেকে মুচে ফেলতে হবে</td>\n",
              "      <td>1</td>\n",
              "    </tr>\n",
              "    <tr>\n",
              "      <th>2</th>\n",
              "      <td>এই মালাউনরা বাংগালিদের সাফল্য দেখে হিংসা করে ব...</td>\n",
              "      <td>4</td>\n",
              "    </tr>\n",
              "    <tr>\n",
              "      <th>3</th>\n",
              "      <td>আমরা বলতে কারা ভারত তাইতো</td>\n",
              "      <td>1</td>\n",
              "    </tr>\n",
              "    <tr>\n",
              "      <th>4</th>\n",
              "      <td>পাকিস্তান আমার বাল</td>\n",
              "      <td>1</td>\n",
              "    </tr>\n",
              "  </tbody>\n",
              "</table>\n",
              "</div>\n",
              "    <div class=\"colab-df-buttons\">\n",
              "\n",
              "  <div class=\"colab-df-container\">\n",
              "    <button class=\"colab-df-convert\" onclick=\"convertToInteractive('df-7dfcb11c-b9de-4a5f-b1e0-723f9bed1c85')\"\n",
              "            title=\"Convert this dataframe to an interactive table.\"\n",
              "            style=\"display:none;\">\n",
              "\n",
              "  <svg xmlns=\"http://www.w3.org/2000/svg\" height=\"24px\" viewBox=\"0 -960 960 960\">\n",
              "    <path d=\"M120-120v-720h720v720H120Zm60-500h600v-160H180v160Zm220 220h160v-160H400v160Zm0 220h160v-160H400v160ZM180-400h160v-160H180v160Zm440 0h160v-160H620v160ZM180-180h160v-160H180v160Zm440 0h160v-160H620v160Z\"/>\n",
              "  </svg>\n",
              "    </button>\n",
              "\n",
              "  <style>\n",
              "    .colab-df-container {\n",
              "      display:flex;\n",
              "      gap: 12px;\n",
              "    }\n",
              "\n",
              "    .colab-df-convert {\n",
              "      background-color: #E8F0FE;\n",
              "      border: none;\n",
              "      border-radius: 50%;\n",
              "      cursor: pointer;\n",
              "      display: none;\n",
              "      fill: #1967D2;\n",
              "      height: 32px;\n",
              "      padding: 0 0 0 0;\n",
              "      width: 32px;\n",
              "    }\n",
              "\n",
              "    .colab-df-convert:hover {\n",
              "      background-color: #E2EBFA;\n",
              "      box-shadow: 0px 1px 2px rgba(60, 64, 67, 0.3), 0px 1px 3px 1px rgba(60, 64, 67, 0.15);\n",
              "      fill: #174EA6;\n",
              "    }\n",
              "\n",
              "    .colab-df-buttons div {\n",
              "      margin-bottom: 4px;\n",
              "    }\n",
              "\n",
              "    [theme=dark] .colab-df-convert {\n",
              "      background-color: #3B4455;\n",
              "      fill: #D2E3FC;\n",
              "    }\n",
              "\n",
              "    [theme=dark] .colab-df-convert:hover {\n",
              "      background-color: #434B5C;\n",
              "      box-shadow: 0px 1px 3px 1px rgba(0, 0, 0, 0.15);\n",
              "      filter: drop-shadow(0px 1px 2px rgba(0, 0, 0, 0.3));\n",
              "      fill: #FFFFFF;\n",
              "    }\n",
              "  </style>\n",
              "\n",
              "    <script>\n",
              "      const buttonEl =\n",
              "        document.querySelector('#df-7dfcb11c-b9de-4a5f-b1e0-723f9bed1c85 button.colab-df-convert');\n",
              "      buttonEl.style.display =\n",
              "        google.colab.kernel.accessAllowed ? 'block' : 'none';\n",
              "\n",
              "      async function convertToInteractive(key) {\n",
              "        const element = document.querySelector('#df-7dfcb11c-b9de-4a5f-b1e0-723f9bed1c85');\n",
              "        const dataTable =\n",
              "          await google.colab.kernel.invokeFunction('convertToInteractive',\n",
              "                                                    [key], {});\n",
              "        if (!dataTable) return;\n",
              "\n",
              "        const docLinkHtml = 'Like what you see? Visit the ' +\n",
              "          '<a target=\"_blank\" href=https://colab.research.google.com/notebooks/data_table.ipynb>data table notebook</a>'\n",
              "          + ' to learn more about interactive tables.';\n",
              "        element.innerHTML = '';\n",
              "        dataTable['output_type'] = 'display_data';\n",
              "        await google.colab.output.renderOutput(dataTable, element);\n",
              "        const docLink = document.createElement('div');\n",
              "        docLink.innerHTML = docLinkHtml;\n",
              "        element.appendChild(docLink);\n",
              "      }\n",
              "    </script>\n",
              "  </div>\n",
              "\n",
              "\n",
              "<div id=\"df-ed1aebe0-8b42-4540-9448-4d5e262b29a3\">\n",
              "  <button class=\"colab-df-quickchart\" onclick=\"quickchart('df-ed1aebe0-8b42-4540-9448-4d5e262b29a3')\"\n",
              "            title=\"Suggest charts\"\n",
              "            style=\"display:none;\">\n",
              "\n",
              "<svg xmlns=\"http://www.w3.org/2000/svg\" height=\"24px\"viewBox=\"0 0 24 24\"\n",
              "     width=\"24px\">\n",
              "    <g>\n",
              "        <path d=\"M19 3H5c-1.1 0-2 .9-2 2v14c0 1.1.9 2 2 2h14c1.1 0 2-.9 2-2V5c0-1.1-.9-2-2-2zM9 17H7v-7h2v7zm4 0h-2V7h2v10zm4 0h-2v-4h2v4z\"/>\n",
              "    </g>\n",
              "</svg>\n",
              "  </button>\n",
              "\n",
              "<style>\n",
              "  .colab-df-quickchart {\n",
              "      --bg-color: #E8F0FE;\n",
              "      --fill-color: #1967D2;\n",
              "      --hover-bg-color: #E2EBFA;\n",
              "      --hover-fill-color: #174EA6;\n",
              "      --disabled-fill-color: #AAA;\n",
              "      --disabled-bg-color: #DDD;\n",
              "  }\n",
              "\n",
              "  [theme=dark] .colab-df-quickchart {\n",
              "      --bg-color: #3B4455;\n",
              "      --fill-color: #D2E3FC;\n",
              "      --hover-bg-color: #434B5C;\n",
              "      --hover-fill-color: #FFFFFF;\n",
              "      --disabled-bg-color: #3B4455;\n",
              "      --disabled-fill-color: #666;\n",
              "  }\n",
              "\n",
              "  .colab-df-quickchart {\n",
              "    background-color: var(--bg-color);\n",
              "    border: none;\n",
              "    border-radius: 50%;\n",
              "    cursor: pointer;\n",
              "    display: none;\n",
              "    fill: var(--fill-color);\n",
              "    height: 32px;\n",
              "    padding: 0;\n",
              "    width: 32px;\n",
              "  }\n",
              "\n",
              "  .colab-df-quickchart:hover {\n",
              "    background-color: var(--hover-bg-color);\n",
              "    box-shadow: 0 1px 2px rgba(60, 64, 67, 0.3), 0 1px 3px 1px rgba(60, 64, 67, 0.15);\n",
              "    fill: var(--button-hover-fill-color);\n",
              "  }\n",
              "\n",
              "  .colab-df-quickchart-complete:disabled,\n",
              "  .colab-df-quickchart-complete:disabled:hover {\n",
              "    background-color: var(--disabled-bg-color);\n",
              "    fill: var(--disabled-fill-color);\n",
              "    box-shadow: none;\n",
              "  }\n",
              "\n",
              "  .colab-df-spinner {\n",
              "    border: 2px solid var(--fill-color);\n",
              "    border-color: transparent;\n",
              "    border-bottom-color: var(--fill-color);\n",
              "    animation:\n",
              "      spin 1s steps(1) infinite;\n",
              "  }\n",
              "\n",
              "  @keyframes spin {\n",
              "    0% {\n",
              "      border-color: transparent;\n",
              "      border-bottom-color: var(--fill-color);\n",
              "      border-left-color: var(--fill-color);\n",
              "    }\n",
              "    20% {\n",
              "      border-color: transparent;\n",
              "      border-left-color: var(--fill-color);\n",
              "      border-top-color: var(--fill-color);\n",
              "    }\n",
              "    30% {\n",
              "      border-color: transparent;\n",
              "      border-left-color: var(--fill-color);\n",
              "      border-top-color: var(--fill-color);\n",
              "      border-right-color: var(--fill-color);\n",
              "    }\n",
              "    40% {\n",
              "      border-color: transparent;\n",
              "      border-right-color: var(--fill-color);\n",
              "      border-top-color: var(--fill-color);\n",
              "    }\n",
              "    60% {\n",
              "      border-color: transparent;\n",
              "      border-right-color: var(--fill-color);\n",
              "    }\n",
              "    80% {\n",
              "      border-color: transparent;\n",
              "      border-right-color: var(--fill-color);\n",
              "      border-bottom-color: var(--fill-color);\n",
              "    }\n",
              "    90% {\n",
              "      border-color: transparent;\n",
              "      border-bottom-color: var(--fill-color);\n",
              "    }\n",
              "  }\n",
              "</style>\n",
              "\n",
              "  <script>\n",
              "    async function quickchart(key) {\n",
              "      const quickchartButtonEl =\n",
              "        document.querySelector('#' + key + ' button');\n",
              "      quickchartButtonEl.disabled = true;  // To prevent multiple clicks.\n",
              "      quickchartButtonEl.classList.add('colab-df-spinner');\n",
              "      try {\n",
              "        const charts = await google.colab.kernel.invokeFunction(\n",
              "            'suggestCharts', [key], {});\n",
              "      } catch (error) {\n",
              "        console.error('Error during call to suggestCharts:', error);\n",
              "      }\n",
              "      quickchartButtonEl.classList.remove('colab-df-spinner');\n",
              "      quickchartButtonEl.classList.add('colab-df-quickchart-complete');\n",
              "    }\n",
              "    (() => {\n",
              "      let quickchartButtonEl =\n",
              "        document.querySelector('#df-ed1aebe0-8b42-4540-9448-4d5e262b29a3 button');\n",
              "      quickchartButtonEl.style.display =\n",
              "        google.colab.kernel.accessAllowed ? 'block' : 'none';\n",
              "    })();\n",
              "  </script>\n",
              "</div>\n",
              "    </div>\n",
              "  </div>\n"
            ]
          },
          "metadata": {},
          "execution_count": 180
        }
      ]
    },
    {
      "cell_type": "code",
      "source": [
        "#dimension of the data\n",
        "print('Number of rows:',df.shape[0])\n",
        "print('Number of columns:',df.shape[1])"
      ],
      "metadata": {
        "colab": {
          "base_uri": "https://localhost:8080/"
        },
        "id": "HFylwAC3Iizj",
        "outputId": "f4c74263-d80f-4705-e49f-d0ba44261817"
      },
      "execution_count": 181,
      "outputs": [
        {
          "output_type": "stream",
          "name": "stdout",
          "text": [
            "Number of rows: 3418\n",
            "Number of columns: 2\n"
          ]
        }
      ]
    },
    {
      "cell_type": "code",
      "source": [
        "df['label'].value_counts()"
      ],
      "metadata": {
        "colab": {
          "base_uri": "https://localhost:8080/"
        },
        "id": "HfhZiwMgQdKj",
        "outputId": "d0f57724-c503-4bb6-d766-3c4a04344dc9"
      },
      "execution_count": 182,
      "outputs": [
        {
          "output_type": "execute_result",
          "data": {
            "text/plain": [
              "1    1379\n",
              "2     629\n",
              "3     592\n",
              "4     502\n",
              "0     316\n",
              "Name: label, dtype: int64"
            ]
          },
          "metadata": {},
          "execution_count": 182
        }
      ]
    },
    {
      "cell_type": "markdown",
      "source": [
        "# **Import sklearn and keras related modules**"
      ],
      "metadata": {
        "id": "ZsJGXtV-PrVM"
      }
    },
    {
      "cell_type": "code",
      "source": [
        "Afrom sklearn.model_selection import train_test_split\n",
        "from tensorflow.keras.preprocessing.text import Tokenizer\n",
        "from tensorflow.keras.layers import Dense,LSTM,Bidirectional,GRU,Embedding,Flatten,Dropout\n",
        "from tensorflow.keras.utils import pad_sequences\n",
        "from tensorflow.keras import Sequential\n",
        "import numpy as np\n",
        "from tensorflow.keras import regularizers"
      ],
      "metadata": {
        "id": "QBxHpzYtFXo5"
      },
      "execution_count": 125,
      "outputs": []
    },
    {
      "cell_type": "code",
      "source": [
        "#Split the feature and target\n",
        "\n",
        "X = df[['text']]\n",
        "y = df['label']"
      ],
      "metadata": {
        "id": "J0YfdLYNF17y"
      },
      "execution_count": 156,
      "outputs": []
    },
    {
      "cell_type": "markdown",
      "source": [
        "# **Using random over sampling Technique**"
      ],
      "metadata": {
        "id": "N_e67fG9QC5s"
      }
    },
    {
      "cell_type": "code",
      "source": [
        "from imblearn.over_sampling import RandomOverSampler\n",
        "\n",
        "# Create an instance of the RandomOverSampler class\n",
        "ros = RandomOverSampler()\n",
        "\n",
        "# Resample the data\n",
        "X_resampled, y_resampled = ros.fit_resample(X, y)  # X_resampled and y_resampled are the resampled data arrays\n"
      ],
      "metadata": {
        "id": "eRTSploZKs91"
      },
      "execution_count": 157,
      "outputs": []
    },
    {
      "cell_type": "code",
      "source": [
        "#Balanced distribution\n",
        "\n",
        "plt.bar(y_resampled.value_counts().index,y_resampled.value_counts().values,color=['r','g','b','yellow','purple'])\n",
        "plt.ylabel('Number of abusements')\n",
        "plt.xlabel('Classes')\n",
        "plt.title('Balanced Categorical Distribution')\n",
        "plt.show()"
      ],
      "metadata": {
        "colab": {
          "base_uri": "https://localhost:8080/",
          "height": 472
        },
        "id": "5xpv64R3QPLM",
        "outputId": "e397d440-fe8f-48d4-8a96-56f8760d7ffd"
      },
      "execution_count": 185,
      "outputs": [
        {
          "output_type": "display_data",
          "data": {
            "text/plain": [
              "<Figure size 640x480 with 1 Axes>"
            ],
            "image/png": "[encoded data removed]"
          },
          "metadata": {}
        }
      ]
    },
    {
      "cell_type": "markdown",
      "source": [
        "# **Text preprocessing**"
      ],
      "metadata": {
        "id": "0gqty-2pWiQ3"
      }
    },
    {
      "cell_type": "code",
      "source": [
        "#tokenized the text into vector\n",
        "\n",
        "tk = Tokenizer()\n",
        "tk.fit_on_texts(X_resampled['text'])\n",
        "seq = tk.texts_to_sequences(X_resampled['text'])\n",
        "vec_x = pad_sequences(seq,padding='post',maxlen=50)"
      ],
      "metadata": {
        "id": "uxNdkN9AGewy"
      },
      "execution_count": 158,
      "outputs": []
    },
    {
      "cell_type": "markdown",
      "source": [
        "# **Convert into array**"
      ],
      "metadata": {
        "id": "E77uieTqXBOn"
      }
    },
    {
      "cell_type": "code",
      "source": [
        "x_arr = np.array(vec_x)\n",
        "y_arr = np.array(y_resampled)"
      ],
      "metadata": {
        "id": "9uK9fmvjG906"
      },
      "execution_count": 159,
      "outputs": []
    },
    {
      "cell_type": "markdown",
      "source": [
        "# **split the data into train and test set**"
      ],
      "metadata": {
        "id": "b24KESIUZNCd"
      }
    },
    {
      "cell_type": "code",
      "source": [
        "X_train,X_test,y_train,y_test = train_test_split(x_arr,y_arr,test_size=0.10,random_state=0)"
      ],
      "metadata": {
        "id": "G0ZomCF2GH2z"
      },
      "execution_count": 160,
      "outputs": []
    },
    {
      "cell_type": "markdown",
      "source": [
        "# **Create model using BiLSTM**"
      ],
      "metadata": {
        "id": "WSQivi3GbMeo"
      }
    },
    {
      "cell_type": "code",
      "source": [
        "model = Sequential()\n",
        "model.add(Embedding(input_dim=len(tk.word_index)+1,output_dim=80,input_length=50))\n",
        "model.add(Bidirectional(LSTM(units=100,return_sequences=True)))\n",
        "model.add(Bidirectional(LSTM(units=150)))\n",
        "model.add(Flatten())\n",
        "model.add(Dense(units=5,activation='softmax',kernel_regularizer=regularizers.l2(0.01)))"
      ],
      "metadata": {
        "id": "XOziHVI5Gaho"
      },
      "execution_count": 162,
      "outputs": []
    },
    {
      "cell_type": "code",
      "source": [
        "model.compile(optimizer='adam',loss='sparse_categorical_crossentropy',metrics=['accuracy']) # using adam optimizer with categorical loss function"
      ],
      "metadata": {
        "id": "tnemEl9OH3cz"
      },
      "execution_count": 163,
      "outputs": []
    },
    {
      "cell_type": "code",
      "source": [
        "#fit the data into the model\n",
        "history = model.fit(X_train,y_train,epochs=6,batch_size=32,validation_data=(X_test,y_test))"
      ],
      "metadata": {
        "colab": {
          "base_uri": "https://localhost:8080/"
        },
        "id": "QhorhQ--IKZq",
        "outputId": "e9fedcaa-7113-40cb-8ef2-d755ef7bfe4a"
      },
      "execution_count": 164,
      "outputs": [
        {
          "output_type": "stream",
          "name": "stdout",
          "text": [
            "Epoch 1/6\n",
            "194/194 [==============================] - 88s 402ms/step - loss: 1.0781 - accuracy: 0.5747 - val_loss: 0.5796 - val_accuracy: 0.8449\n",
            "Epoch 2/6\n",
            "194/194 [==============================] - 74s 382ms/step - loss: 0.3454 - accuracy: 0.9046 - val_loss: 0.4148 - val_accuracy: 0.8957\n",
            "Epoch 3/6\n",
            "194/194 [==============================] - 75s 388ms/step - loss: 0.1996 - accuracy: 0.9513 - val_loss: 0.3509 - val_accuracy: 0.9174\n",
            "Epoch 4/6\n",
            "194/194 [==============================] - 75s 385ms/step - loss: 0.1664 - accuracy: 0.9542 - val_loss: 0.4012 - val_accuracy: 0.9029\n",
            "Epoch 5/6\n",
            "194/194 [==============================] - 74s 383ms/step - loss: 0.1488 - accuracy: 0.9587 - val_loss: 0.3850 - val_accuracy: 0.9087\n",
            "Epoch 6/6\n",
            "194/194 [==============================] - 75s 388ms/step - loss: 0.1246 - accuracy: 0.9642 - val_loss: 0.4141 - val_accuracy: 0.9072\n"
          ]
        }
      ]
    },
    {
      "cell_type": "code",
      "source": [
        "#Evaluate the model\n",
        "\n",
        "model.evaluate(X_test,y_test)"
      ],
      "metadata": {
        "colab": {
          "base_uri": "https://localhost:8080/"
        },
        "id": "XxNVE4HwIXD5",
        "outputId": "3932e45e-9ecd-4b6f-83ae-6c894a06f001"
      },
      "execution_count": 165,
      "outputs": [
        {
          "output_type": "stream",
          "name": "stdout",
          "text": [
            "22/22 [==============================] - 2s 86ms/step - loss: 0.4141 - accuracy: 0.9072\n"
          ]
        },
        {
          "output_type": "execute_result",
          "data": {
            "text/plain": [
              "[0.4140547513961792, 0.9072463512420654]"
            ]
          },
          "metadata": {},
          "execution_count": 165
        }
      ]
    },
    {
      "cell_type": "markdown",
      "source": [
        "# Got 90 % accuracy"
      ],
      "metadata": {
        "id": "bBft6xY_eN0M"
      }
    },
    {
      "cell_type": "code",
      "source": [
        "#graphical loss measurement\n",
        "\n",
        "pd.DataFrame(history.history).plot()\n",
        "plt.show()"
      ],
      "metadata": {
        "colab": {
          "base_uri": "https://localhost:8080/",
          "height": 430
        },
        "id": "BmOrHMh1LvPJ",
        "outputId": "2ac8d134-e6bd-42ee-8255-253af7c57847"
      },
      "execution_count": 166,
      "outputs": [
        {
          "output_type": "display_data",
          "data": {
            "text/plain": [
              "<Figure size 640x480 with 1 Axes>"
            ],
            "image/png": "[encoded data removed]"
          },
          "metadata": {}
        }
      ]
    },
    {
      "cell_type": "markdown",
      "source": [
        "# **Performance of the model**"
      ],
      "metadata": {
        "id": "aJWnjzJFbpVb"
      }
    },
    {
      "cell_type": "code",
      "source": [
        "y_pred = model.predict(X_test)\n",
        "y_pred_pro = (y_pred>0.5).astype(int)\n",
        "y_pred =  np.argmax(y_pred_pro, axis=1)"
      ],
      "metadata": {
        "colab": {
          "base_uri": "https://localhost:8080/"
        },
        "id": "YrJBsSzQQCby",
        "outputId": "ccd9ea67-a0ac-4945-a8b7-73b3e5704d1a"
      },
      "execution_count": 167,
      "outputs": [
        {
          "output_type": "stream",
          "name": "stdout",
          "text": [
            "22/22 [==============================] - 7s 153ms/step\n"
          ]
        }
      ]
    },
    {
      "cell_type": "code",
      "source": [
        "y_pred"
      ],
      "metadata": {
        "colab": {
          "base_uri": "https://localhost:8080/"
        },
        "id": "vz02rbf2RKki",
        "outputId": "3008030c-2765-40e3-e2e9-581c9d1f0bdc"
      },
      "execution_count": 168,
      "outputs": [
        {
          "output_type": "execute_result",
          "data": {
            "text/plain": [
              "array([4, 0, 1, 2, 3, 4, 2, 2, 3, 2, 3, 1, 2, 4, 2, 3, 3, 4, 1, 1, 4, 0,\n",
              "       2, 2, 0, 3, 1, 0, 1, 0, 0, 0, 3, 4, 0, 4, 0, 3, 1, 0, 1, 3, 4, 2,\n",
              "       4, 1, 4, 2, 0, 4, 3, 2, 0, 4, 3, 4, 2, 4, 2, 1, 3, 0, 2, 4, 0, 0,\n",
              "       1, 1, 0, 3, 4, 0, 4, 4, 0, 3, 1, 3, 2, 4, 4, 4, 2, 2, 4, 2, 2, 1,\n",
              "       1, 1, 2, 0, 4, 0, 4, 2, 3, 4, 1, 1, 0, 1, 3, 4, 2, 3, 2, 4, 1, 3,\n",
              "       1, 1, 3, 0, 3, 2, 1, 0, 2, 2, 3, 1, 1, 2, 1, 3, 0, 3, 3, 3, 3, 0,\n",
              "       1, 3, 4, 4, 4, 4, 4, 2, 3, 1, 3, 4, 2, 3, 4, 2, 0, 4, 2, 2, 3, 0,\n",
              "       2, 3, 1, 4, 4, 1, 0, 4, 1, 2, 4, 0, 2, 0, 3, 0, 3, 2, 2, 2, 2, 2,\n",
              "       4, 4, 2, 4, 2, 1, 3, 0, 2, 1, 3, 1, 4, 1, 2, 4, 0, 2, 2, 3, 4, 2,\n",
              "       3, 3, 0, 2, 2, 1, 1, 1, 4, 4, 0, 0, 4, 1, 3, 1, 1, 3, 1, 3, 4, 0,\n",
              "       0, 1, 4, 4, 2, 2, 4, 0, 3, 3, 4, 3, 0, 2, 1, 2, 3, 0, 3, 2, 1, 3,\n",
              "       2, 0, 0, 0, 1, 0, 1, 3, 1, 0, 3, 4, 4, 2, 2, 4, 3, 4, 3, 2, 4, 2,\n",
              "       2, 2, 3, 2, 2, 0, 0, 2, 3, 4, 2, 2, 1, 0, 1, 2, 3, 0, 2, 3, 2, 3,\n",
              "       2, 3, 1, 2, 2, 4, 4, 0, 4, 4, 0, 4, 1, 0, 3, 3, 3, 4, 1, 1, 1, 0,\n",
              "       1, 0, 4, 3, 0, 2, 2, 3, 0, 4, 3, 3, 4, 3, 4, 3, 0, 2, 4, 2, 1, 4,\n",
              "       0, 2, 2, 4, 3, 0, 2, 2, 0, 0, 2, 0, 4, 4, 1, 4, 0, 2, 1, 3, 1, 1,\n",
              "       2, 1, 4, 0, 1, 2, 3, 1, 0, 3, 1, 2, 3, 3, 4, 0, 0, 4, 3, 3, 4, 1,\n",
              "       2, 3, 0, 4, 3, 4, 4, 0, 4, 0, 4, 2, 2, 4, 1, 2, 4, 0, 3, 4, 2, 3,\n",
              "       0, 3, 0, 2, 0, 2, 2, 3, 0, 0, 0, 3, 2, 3, 1, 0, 0, 0, 0, 1, 2, 0,\n",
              "       4, 1, 0, 2, 4, 2, 0, 4, 3, 1, 1, 0, 4, 3, 4, 0, 1, 1, 0, 2, 0, 1,\n",
              "       0, 3, 4, 4, 3, 0, 4, 3, 3, 4, 4, 4, 4, 4, 2, 3, 4, 2, 1, 0, 3, 0,\n",
              "       2, 0, 3, 2, 0, 0, 0, 4, 0, 0, 4, 4, 2, 4, 0, 0, 3, 2, 4, 2, 2, 2,\n",
              "       2, 3, 2, 3, 3, 4, 2, 0, 1, 3, 1, 1, 4, 1, 1, 0, 0, 4, 1, 2, 4, 0,\n",
              "       0, 3, 0, 1, 0, 4, 3, 4, 1, 0, 1, 3, 0, 4, 4, 2, 0, 2, 1, 4, 1, 0,\n",
              "       3, 2, 4, 4, 2, 4, 4, 1, 2, 3, 1, 0, 3, 1, 3, 2, 2, 0, 0, 4, 0, 0,\n",
              "       1, 1, 0, 0, 3, 0, 1, 2, 3, 0, 1, 4, 4, 3, 4, 0, 4, 2, 3, 1, 0, 0,\n",
              "       3, 4, 3, 4, 4, 0, 0, 4, 2, 2, 4, 3, 2, 3, 4, 0, 1, 2, 2, 1, 3, 0,\n",
              "       3, 2, 4, 2, 0, 1, 4, 4, 1, 2, 0, 1, 2, 4, 3, 3, 4, 1, 1, 1, 3, 0,\n",
              "       1, 3, 1, 4, 2, 4, 3, 4, 4, 3, 0, 4, 4, 3, 1, 2, 3, 2, 4, 1, 2, 1,\n",
              "       0, 1, 0, 1, 4, 3, 4, 2, 0, 0, 3, 1, 1, 2, 0, 1, 3, 0, 0, 0, 3, 3,\n",
              "       1, 2, 2, 1, 3, 2, 2, 3, 3, 4, 1, 4, 4, 0, 2, 3, 2, 3, 3, 1, 2, 0,\n",
              "       2, 0, 3, 2, 3, 2, 0, 3])"
            ]
          },
          "metadata": {},
          "execution_count": 168
        }
      ]
    },
    {
      "cell_type": "markdown",
      "source": [
        "# **metrics **"
      ],
      "metadata": {
        "id": "DUapukgDcZCa"
      }
    },
    {
      "cell_type": "code",
      "source": [
        "#confusion matrix\n",
        "\n",
        "from sklearn.metrics import confusion_matrix,ConfusionMatrixDisplay\n",
        "cnf = confusion_matrix(y_test,y_pred)"
      ],
      "metadata": {
        "id": "4fOCcU8VPzly"
      },
      "execution_count": 169,
      "outputs": []
    },
    {
      "cell_type": "code",
      "source": [
        "#plot the confusion matrix\n",
        "\n",
        "ax = ConfusionMatrixDisplay(cnf,display_labels=['Gender_abuse','Geopoitical','personal','political','religious']).plot()\n",
        "plt.xticks(rotation=90)\n",
        "plt.show()"
      ],
      "metadata": {
        "colab": {
          "base_uri": "https://localhost:8080/",
          "height": 535
        },
        "id": "kG9kpHp4QYTb",
        "outputId": "5d854290-38a5-4546-c047-1e5319185664"
      },
      "execution_count": 187,
      "outputs": [
        {
          "output_type": "display_data",
          "data": {
            "text/plain": [
              "<Figure size 640x480 with 2 Axes>"
            ],
            "image/png": "[encoded data removed]"
          },
          "metadata": {}
        }
      ]
    }
  ]
}